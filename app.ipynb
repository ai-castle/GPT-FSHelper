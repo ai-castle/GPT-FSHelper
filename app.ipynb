{
 "cells": [
  {
   "cell_type": "markdown",
   "metadata": {},
   "source": [
    "# Prepare"
   ]
  },
  {
   "cell_type": "code",
   "execution_count": 1,
   "metadata": {},
   "outputs": [],
   "source": [
    "from openai import OpenAI\n",
    "import importlib\n",
    "import pandas as pd\n",
    "from collections import deque\n",
    "from pprint import pprint\n",
    "import os\n",
    "import hparams as hp\n",
    "importlib.reload(hp)\n",
    "from utils import num_tokens_from_messages, list_files, generate_file_content_string\n",
    "\n",
    "prompt_history_queue = deque(maxlen=hp.PROMPT_HISTORY_LEN * 2)\n",
    "client = OpenAI(api_key=hp.OPENAI_API_KEY)"
   ]
  },
  {
   "cell_type": "code",
   "execution_count": 2,
   "metadata": {},
   "outputs": [],
   "source": [
    "def get_project_info():\n",
    "    file_contents = \"\"\n",
    "    prompt_tokens_list = []\n",
    "    relative_path_list = []\n",
    "    file_list = list_files(hp.PROJECT_ROOT_PATH, hp.INCLUDED_PATHS, hp.EXCLUDED_PATHS)\n",
    "    for file_path in file_list :\n",
    "        relative_path, file_content_str = generate_file_content_string(hp.PROJECT_ROOT_PATH, file_path)\n",
    "        file_contents += file_content_str\n",
    "        num_tokens = num_tokens_from_messages(\n",
    "            messages = [{\"role\": \"system\", \"name\":\"file_contents\", \"content\": file_content_str}],\n",
    "            model = hp.TOKEN_CAL_MODEL_NAME\n",
    "        )\n",
    "        prompt_tokens_list.append(num_tokens)\n",
    "        relative_path_list.append(relative_path)\n",
    "\n",
    "    messages = hp.messages_sample.copy()\n",
    "    messages.append({\"role\": \"system\", \"name\":\"file_contents\", \"content\": file_contents})\n",
    "    system_tokens = num_tokens_from_messages(\n",
    "        messages = messages,\n",
    "        model = hp.TOKEN_CAL_MODEL_NAME\n",
    "    )\n",
    "\n",
    "    df_info = pd.DataFrame()\n",
    "    df_info['relative_path'] = relative_path_list\n",
    "    df_info['num_tokens'] = prompt_tokens_list\n",
    "    df_info = df_info.sort_values('num_tokens', ascending=False)\n",
    "\n",
    "    return file_contents, system_tokens, df_info\n",
    "\n",
    "\n",
    "def chat_request(file_contents, prompt_history_queue, user_input, include_file_contents = True, include_prompt_history = True, display_history=False):\n",
    "    messages = hp.messages_sample.copy()\n",
    "    \n",
    "    if include_file_contents :\n",
    "        file_contents_msg = {\"role\": \"system\", \"name\":\"file_contents\", \"content\": file_contents}\n",
    "        messages.append(file_contents_msg)\n",
    "    \n",
    "    if include_prompt_history :\n",
    "        prompt_history_list = list(prompt_history_queue)\n",
    "        messages += prompt_history_list\n",
    "        if display_history :\n",
    "            for prompt_history in prompt_history_list :\n",
    "                print(f\"{prompt_history['role']} : \\n{prompt_history['content']}\\n\")\n",
    "    \n",
    "    user_msg = {\"role\": \"user\", \"content\": user_input}\n",
    "    messages += [user_msg]\n",
    "    print(\"-\"*10)\n",
    "    print(f\"user: \\n{user_input}\\n\")\n",
    "    print(\"-\"*10)\n",
    "    completion = client.chat.completions.create(\n",
    "        model=hp.MODEL_NAME,\n",
    "        messages=messages,\n",
    "        temperature=0,\n",
    "        max_tokens=hp.MAX_TOKENS,\n",
    "    )\n",
    "\n",
    "    assistant_content = completion.choices[0].message.content\n",
    "    \n",
    "    print(f\"assistant: \\n{assistant_content}\\n\")\n",
    "    print(completion.usage)\n",
    "    \n",
    "    assistant_msg = {\"role\": \"assistant\", \"content\": assistant_content}\n",
    "    prompt_history_queue.append(user_msg)\n",
    "    prompt_history_queue.append(assistant_msg)\n",
    "\n",
    "    return completion, assistant_content"
   ]
  },
  {
   "cell_type": "markdown",
   "metadata": {},
   "source": [
    "- Confirm File System"
   ]
  },
  {
   "cell_type": "code",
   "execution_count": 3,
   "metadata": {},
   "outputs": [
    {
     "name": "stdout",
     "output_type": "stream",
     "text": [
      "['/.gitignore',\n",
      " '/README.md',\n",
      " '/app.ipynb',\n",
      " '/hparams.py',\n",
      " '/hparams.py.sample',\n",
      " '/requirements.txt',\n",
      " '/utils.py']\n"
     ]
    }
   ],
   "source": [
    "file_contents, system_tokens, df_info = get_project_info()\n",
    "pprint(('/' + df_info.sort_index()['relative_path']).tolist())"
   ]
  },
  {
   "cell_type": "markdown",
   "metadata": {},
   "source": [
    "# Run"
   ]
  },
  {
   "cell_type": "code",
   "execution_count": 6,
   "metadata": {},
   "outputs": [
    {
     "name": "stdout",
     "output_type": "stream",
     "text": [
      "system tokens : 5480\n"
     ]
    },
    {
     "data": {
      "text/html": [
       "<div>\n",
       "<style scoped>\n",
       "    .dataframe tbody tr th:only-of-type {\n",
       "        vertical-align: middle;\n",
       "    }\n",
       "\n",
       "    .dataframe tbody tr th {\n",
       "        vertical-align: top;\n",
       "    }\n",
       "\n",
       "    .dataframe thead th {\n",
       "        text-align: right;\n",
       "    }\n",
       "</style>\n",
       "<table border=\"1\" class=\"dataframe\">\n",
       "  <thead>\n",
       "    <tr style=\"text-align: right;\">\n",
       "      <th></th>\n",
       "      <th>relative_path</th>\n",
       "      <th>num_tokens</th>\n",
       "    </tr>\n",
       "  </thead>\n",
       "  <tbody>\n",
       "    <tr>\n",
       "      <th>2</th>\n",
       "      <td>app.ipynb</td>\n",
       "      <td>1736</td>\n",
       "    </tr>\n",
       "    <tr>\n",
       "      <th>5</th>\n",
       "      <td>requirements.txt</td>\n",
       "      <td>1133</td>\n",
       "    </tr>\n",
       "    <tr>\n",
       "      <th>1</th>\n",
       "      <td>README.md</td>\n",
       "      <td>1026</td>\n",
       "    </tr>\n",
       "    <tr>\n",
       "      <th>6</th>\n",
       "      <td>utils.py</td>\n",
       "      <td>803</td>\n",
       "    </tr>\n",
       "    <tr>\n",
       "      <th>3</th>\n",
       "      <td>hparams.py</td>\n",
       "      <td>375</td>\n",
       "    </tr>\n",
       "    <tr>\n",
       "      <th>4</th>\n",
       "      <td>hparams.py.sample</td>\n",
       "      <td>306</td>\n",
       "    </tr>\n",
       "    <tr>\n",
       "      <th>0</th>\n",
       "      <td>.gitignore</td>\n",
       "      <td>37</td>\n",
       "    </tr>\n",
       "  </tbody>\n",
       "</table>\n",
       "</div>"
      ],
      "text/plain": [
       "       relative_path  num_tokens\n",
       "2          app.ipynb        1736\n",
       "5   requirements.txt        1133\n",
       "1          README.md        1026\n",
       "6           utils.py         803\n",
       "3         hparams.py         375\n",
       "4  hparams.py.sample         306\n",
       "0         .gitignore          37"
      ]
     },
     "metadata": {},
     "output_type": "display_data"
    },
    {
     "name": "stdout",
     "output_type": "stream",
     "text": [
      "----------\n",
      "user: \n",
      "user_input 위에는\n",
      "\n",
      "----------\n",
      "assistant: \n",
      "`app.ipynb` 파일에서 `user_input` 변수를 사용하기 전에, 사용자로부터 입력을 받는 부분에 대한 설명을 추가하겠습니다. 아래 코드는 `user_input` 변수 설정 전에 사용자 입력을 설명하는 주석을 포함하고 있습니다.\n",
      "\n",
      "```python\n",
      "# Set the user_input variable with the text that you want to send to the assistant.\n",
      "# This is where you can ask questions or give commands to the assistant.\n",
      "user_input = \"\"\"\n",
      "user_input 위에는\n",
      "\"\"\"\n",
      "```\n",
      "\n",
      "이 주석은 `user_input` 변수에 대한 설명을 제공하며, 이 변수에 사용자가 어시스턴트에게 전달하고자 하는 텍스트를 설정하는 부분임을 명시합니다. 여기서는 사용자가 어시스턴트에게 질문을 하거나 명령을 내릴 수 있는 텍스트를 입력합니다.\n",
      "\n",
      "CompletionUsage(completion_tokens=219, prompt_tokens=6201, total_tokens=6420)\n"
     ]
    }
   ],
   "source": [
    "# This is where you can ask questions or give commands to the assistant.\n",
    "user_input = \"\"\"\n",
    "\n",
    "\"\"\"\n",
    "\n",
    "file_contents, system_tokens, df_info = get_project_info() # Call the get_project_info function to retrieve project information.\n",
    "print(f\"system tokens : {system_tokens}\") # Print the number of system tokens.\n",
    "display(df_info.iloc[:10])  # Display information for the top 10 files.\n",
    "\n",
    "# Call the chat_request function to get the assistant's response to user input.\n",
    "completion, assistant_content = chat_request(file_contents, prompt_history_queue, user_input[1:][:-1], \n",
    "    include_file_contents = True,  # Include file contents in the conversation.\n",
    "    include_prompt_history = True,  # Include previous conversation history in the conversation.\n",
    "    display_history = False  # Do not display previous conversation history on the screen.\n",
    ")"
   ]
  }
 ],
 "metadata": {
  "kernelspec": {
   "display_name": "Python 3 (ipykernel)",
   "language": "python",
   "name": "python3"
  },
  "language_info": {
   "codemirror_mode": {
    "name": "ipython",
    "version": 3
   },
   "file_extension": ".py",
   "mimetype": "text/x-python",
   "name": "python",
   "nbconvert_exporter": "python",
   "pygments_lexer": "ipython3",
   "version": "3.8.13"
  }
 },
 "nbformat": 4,
 "nbformat_minor": 4
}
